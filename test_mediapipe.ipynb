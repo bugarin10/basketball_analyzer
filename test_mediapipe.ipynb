{
 "cells": [
  {
   "cell_type": "code",
   "execution_count": 10,
   "metadata": {},
   "outputs": [],
   "source": [
    "from mediapipe import solutions\n",
    "from mediapipe.framework.formats import landmark_pb2\n",
    "import numpy as np\n",
    "\n",
    "import mediapipe as mp\n",
    "from mediapipe.tasks import python\n",
    "from mediapipe.tasks.python import vision\n",
    "\n",
    "\n",
    "def extract_landmarks(pose_landmarks, visibility=True):\n",
    "    \"\"\"\n",
    "    Extracts x, y, and either visibility or presence from pose landmarks.\n",
    "\n",
    "    Args:\n",
    "        pose_landmarks: A collection of Mediapipe pose landmarks. In our case detection_result.pose_world_landmarks[0]\n",
    "        visibility (bool): If True, includes visibility; otherwise, includes presence.\n",
    "\n",
    "    Returns:\n",
    "        list of lists: Each sublist contains [x, y, visibility/presence].\n",
    "    \"\"\"\n",
    "    landmarks_list = []\n",
    "\n",
    "    for landmark in pose_landmarks:\n",
    "        if visibility:\n",
    "            landmarks_list.append([landmark.x, landmark.y, landmark.visibility])\n",
    "        else:\n",
    "            landmarks_list.append([landmark.x, landmark.y, landmark.presence])\n",
    "\n",
    "    return landmarks_list\n",
    "\n",
    "\n",
    "def pose_estimation(path_to_image='image.jpg',visibility=True):\n",
    "\n",
    "    \"\"\"\n",
    "        This functions return x,y and the visibility from an image\n",
    "\n",
    "    \"\"\"\n",
    "\n",
    "    base_options = python.BaseOptions(model_asset_path='pose_landmarker.task')\n",
    "    options = vision.PoseLandmarkerOptions(\n",
    "        base_options=base_options,\n",
    "        output_segmentation_masks=True)\n",
    "    detector = vision.PoseLandmarker.create_from_options(options)\n",
    "\n",
    "    # STEP 3: Load the input image.\n",
    "    image = mp.Image.create_from_file(path_to_image)\n",
    "\n",
    "    # STEP 4: Detect pose landmarks from the input image.\n",
    "    detection_result = detector.detect(image)\n",
    "\n",
    "    return extract_landmarks(detection_result.pose_world_landmarks[0], visibility=True)"
   ]
  },
  {
   "cell_type": "code",
   "execution_count": 12,
   "metadata": {},
   "outputs": [
    {
     "name": "stderr",
     "output_type": "stream",
     "text": [
      "I0000 00:00:1733408784.236025    2844 task_runner.cc:85] GPU suport is not available: INTERNAL: ; RET_CHECK failure (mediapipe/gpu/gl_context_egl.cc:77) display != EGL_NO_DISPLAYeglGetDisplay() returned error 0x300c\n",
      "W0000 00:00:1733408784.294873    9233 inference_feedback_manager.cc:114] Feedback manager requires a model with a single signature inference. Disabling support for feedback tensors.\n",
      "W0000 00:00:1733408784.356047    9244 inference_feedback_manager.cc:114] Feedback manager requires a model with a single signature inference. Disabling support for feedback tensors.\n"
     ]
    }
   ],
   "source": [
    "result=pose_estimation()"
   ]
  },
  {
   "cell_type": "code",
   "execution_count": 13,
   "metadata": {},
   "outputs": [
    {
     "data": {
      "text/plain": [
       "33"
      ]
     },
     "execution_count": 13,
     "metadata": {},
     "output_type": "execute_result"
    }
   ],
   "source": [
    "len(result)"
   ]
  }
 ],
 "metadata": {
  "kernelspec": {
   "display_name": "venv",
   "language": "python",
   "name": "python3"
  },
  "language_info": {
   "codemirror_mode": {
    "name": "ipython",
    "version": 3
   },
   "file_extension": ".py",
   "mimetype": "text/x-python",
   "name": "python",
   "nbconvert_exporter": "python",
   "pygments_lexer": "ipython3",
   "version": "3.12.1"
  }
 },
 "nbformat": 4,
 "nbformat_minor": 2
}
